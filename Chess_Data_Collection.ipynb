{
 "cells": [
  {
   "cell_type": "code",
   "execution_count": 5,
   "metadata": {},
   "outputs": [],
   "source": [
    "import pandas as pd\n",
    "import re\n",
    "from selenium import webdriver\n",
    "import time\n",
    "import matplotlib.pyplot as plt\n",
    "plt.rcParams['axes.facecolor'] = 'black'\n",
    "import os\n",
    "import math\n",
    "\n",
    "import warnings\n",
    "warnings.filterwarnings('ignore')"
   ]
  },
  {
   "cell_type": "markdown",
   "metadata": {},
   "source": [
    "# Parameters"
   ]
  },
  {
   "cell_type": "code",
   "execution_count": 97,
   "metadata": {},
   "outputs": [],
   "source": [
    "game_id = \"6579153\"\n",
    "\n",
    "# chess.com log in email and password are saved in a text file\n",
    "f = open(\"creds.txt\", \"r\")\n",
    "credentials = f.read()\n",
    "chess_account_id = credentials.split(\",\")[0]\n",
    "chess_account_password = credentials.split(\",\")[1]"
   ]
  },
  {
   "cell_type": "markdown",
   "metadata": {},
   "source": [
    "# Selenium Web Scraping\n",
    "## Game Moves"
   ]
  },
  {
   "cell_type": "code",
   "execution_count": 98,
   "metadata": {},
   "outputs": [],
   "source": [
    "game_url = \"https://www.chess.com/4-player-chess?g={}\".format(game_id)\n",
    "\n",
    "# open game in python-controlled session\n",
    "DRIVER_PATH = 'chromedriver'\n",
    "driver = webdriver.Chrome(executable_path=DRIVER_PATH)\n",
    "\n",
    "# start at log in page, where website prompts for account info\n",
    "driver.get(\"https://www.chess.com/login_and_go\")\n",
    "\n",
    "# send username/email and password to appropriate locations and 'click' login button\n",
    "driver.find_element_by_name('_username').send_keys(chess_account_id)\n",
    "driver.find_element_by_name('_password').send_keys(chess_account_password)\n",
    "driver.find_element_by_name('login').click()\n",
    "\n",
    "# navigate to game of choice\n",
    "driver.get(game_url)\n",
    "\n",
    "# have python take a breather, incase the page is still loading\n",
    "# otherwise, we immediately start looking for data added by Javascript that hasn't run yet \n",
    "time.sleep(3)"
   ]
  },
  {
   "cell_type": "code",
   "execution_count": 4,
   "metadata": {},
   "outputs": [
    {
     "name": "stdout",
     "output_type": "stream",
     "text": [
      "284\n"
     ]
    }
   ],
   "source": [
    "# now we're ready to access and scrape all the game info\n",
    "\n",
    "# list player color in order of play\n",
    "colors = [\"red\", \"blue\", \"yellow\", \"green\"]\n",
    "\n",
    "# find the table rows, part of the movesList table, which list moves\n",
    "# each row = one round\n",
    "allRounds = driver.find_elements_by_class_name('tableRow')\n",
    "\n",
    "# lists to hold data\n",
    "roundNumberList = []\n",
    "playerList = []\n",
    "moveList = []\n",
    "\n",
    "# for each round, find the row number and the four moves. Save to lists. \n",
    "for round_num in allRounds:\n",
    "    roundNumber = round_num.find_element_by_class_name(\"fullmoveNr\").text\n",
    "    moves = round_num.find_elements_by_class_name(\"move\")\n",
    "    \n",
    "    for i in range(0,len(moves)):\n",
    "        roundNumberList.append(roundNumber)\n",
    "        playerList.append(colors[i])\n",
    "        moveList.append(moves[i].text)\n",
    "        \n",
    "moves_data = pd.DataFrame({'round':roundNumberList, 'player':playerList, 'move':moveList})\n",
    "\n",
    "print(len(moves_data))"
   ]
  },
  {
   "cell_type": "code",
   "execution_count": 5,
   "metadata": {},
   "outputs": [
    {
     "data": {
      "text/html": [
       "<div>\n",
       "<style scoped>\n",
       "    .dataframe tbody tr th:only-of-type {\n",
       "        vertical-align: middle;\n",
       "    }\n",
       "\n",
       "    .dataframe tbody tr th {\n",
       "        vertical-align: top;\n",
       "    }\n",
       "\n",
       "    .dataframe thead th {\n",
       "        text-align: right;\n",
       "    }\n",
       "</style>\n",
       "<table border=\"1\" class=\"dataframe\">\n",
       "  <thead>\n",
       "    <tr style=\"text-align: right;\">\n",
       "      <th></th>\n",
       "      <th>round</th>\n",
       "      <th>player</th>\n",
       "      <th>move</th>\n",
       "    </tr>\n",
       "  </thead>\n",
       "  <tbody>\n",
       "    <tr>\n",
       "      <td>0</td>\n",
       "      <td>1.</td>\n",
       "      <td>red</td>\n",
       "      <td>e3</td>\n",
       "    </tr>\n",
       "    <tr>\n",
       "      <td>1</td>\n",
       "      <td>1.</td>\n",
       "      <td>blue</td>\n",
       "      <td>c8</td>\n",
       "    </tr>\n",
       "    <tr>\n",
       "      <td>2</td>\n",
       "      <td>1.</td>\n",
       "      <td>yellow</td>\n",
       "      <td>g11</td>\n",
       "    </tr>\n",
       "    <tr>\n",
       "      <td>3</td>\n",
       "      <td>1.</td>\n",
       "      <td>green</td>\n",
       "      <td>Nl6</td>\n",
       "    </tr>\n",
       "  </tbody>\n",
       "</table>\n",
       "</div>"
      ],
      "text/plain": [
       "  round  player move\n",
       "0    1.     red   e3\n",
       "1    1.    blue   c8\n",
       "2    1.  yellow  g11\n",
       "3    1.   green  Nl6"
      ]
     },
     "execution_count": 5,
     "metadata": {},
     "output_type": "execute_result"
    }
   ],
   "source": [
    "moves_data.head(4)"
   ]
  },
  {
   "cell_type": "markdown",
   "metadata": {},
   "source": [
    "## Points"
   ]
  },
  {
   "cell_type": "code",
   "execution_count": 6,
   "metadata": {},
   "outputs": [],
   "source": [
    "# create lists to hold points for each player\n",
    "redPoints = []\n",
    "bluePoints = []\n",
    "yellowPoints = []\n",
    "greenPoints = []\n",
    "\n",
    "# select all of the moves from the table\n",
    "moves = driver.find_elements_by_class_name(\"move\")\n",
    "\n",
    "for move in moves:\n",
    "    \n",
    "    # short pause between each loop makes sure website is fully updated before python script scrapes it\n",
    "    time.sleep(0.25)\n",
    "    \n",
    "    # click on each one; the board will show you what was happening at that move\n",
    "    move.click()\n",
    "\n",
    "    # find all elements which display player points\n",
    "    playerPoints = driver.find_elements_by_class_name('player-points')\n",
    "    \n",
    "    # for each move, add current points of each player to lists\n",
    "    redPoints.append(playerPoints[0].text)\n",
    "    bluePoints.append(playerPoints[1].text)\n",
    "    yellowPoints.append(playerPoints[2].text)\n",
    "    greenPoints.append(playerPoints[3].text)\n",
    "    \n",
    "assert(len(redPoints)==len(bluePoints)==len(moves_data))\n",
    "\n",
    "moves_data['redPoints'] = redPoints\n",
    "moves_data['bluePoints'] = bluePoints\n",
    "moves_data['yellowPoints'] = yellowPoints\n",
    "moves_data['greenPoints'] = greenPoints\n",
    "\n",
    "moves_data['redPoints'] = moves_data['redPoints'].astype(int)\n",
    "moves_data['bluePoints'] = moves_data['bluePoints'].astype(int)\n",
    "moves_data['yellowPoints'] = moves_data['yellowPoints'].astype(int)\n",
    "moves_data['greenPoints'] = moves_data['greenPoints'].astype(int)"
   ]
  },
  {
   "cell_type": "markdown",
   "metadata": {},
   "source": [
    "### Points Viz"
   ]
  },
  {
   "cell_type": "code",
   "execution_count": 55,
   "metadata": {},
   "outputs": [
    {
     "data": {
      "text/plain": [
       "[<matplotlib.lines.Line2D at 0x1772faa1b48>]"
      ]
     },
     "execution_count": 55,
     "metadata": {},
     "output_type": "execute_result"
    },
    {
     "data": {
      "image/png": "[encoded data removed]",
      "text/plain": [
       "<Figure size 432x288 with 1 Axes>"
      ]
     },
     "metadata": {
      "needs_background": "light"
     },
     "output_type": "display_data"
    }
   ],
   "source": [
    "plt.plot(moves_data.index, moves_data['redPoints'], color='red', linewidth=3)\n",
    "plt.plot(moves_data.index, moves_data['bluePoints'], color='blue', linewidth=3)\n",
    "plt.plot(moves_data.index, moves_data['yellowPoints'], color='yellow', linewidth=3)\n",
    "plt.plot(moves_data.index, moves_data['greenPoints'], color='green', linewidth=3)"
   ]
  },
  {
   "cell_type": "markdown",
   "metadata": {},
   "source": [
    "# Derive position/coordinate origin and destination data"
   ]
  },
  {
   "cell_type": "code",
   "execution_count": 8,
   "metadata": {},
   "outputs": [],
   "source": [
    "# this line shouldn't be necessary as I've already run it above, but I've run into errors when not re-running it. Investigate further\n",
    "moves = driver.find_elements_by_class_name(\"move\")"
   ]
  },
  {
   "cell_type": "code",
   "execution_count": 9,
   "metadata": {},
   "outputs": [],
   "source": [
    "# Scrape the website for the advanced move notation\n",
    "moveNotes = []\n",
    "\n",
    "for move in moves:\n",
    "    try:\n",
    "        move_details = move.find_element_by_tag_name(\"div\")\n",
    "        moveNotes.append(move_details.get_attribute(\"title\"))\n",
    "    except:\n",
    "        # got to a point where player has either resigned or been checkmated, skip them\n",
    "        moveNotes.append(\"\")\n",
    "        \n",
    "# add advanced move notation to dataframe\n",
    "moves_data['moveNotes'] = moveNotes"
   ]
  },
  {
   "cell_type": "code",
   "execution_count": 16,
   "metadata": {},
   "outputs": [],
   "source": [
    "# remove timestamp from new column\n",
    "moves_data[['moveNote','time']] = moves_data[\"moveNotes\"].str.split(\" • \",expand=True)\n",
    "del moves_data[\"time\"]\n",
    "del moves_data['moveNotes'] # we don't really need this for anything now\n",
    "\n",
    "# split the expanded notation on either a hyphen or an x: \n",
    "# both represent origin - destination for a piece. x just means capture.\n",
    "moves_data[['origin','destination']] = moves_data[\"moveNote\"].str.split('[-x]', 1, expand=True)"
   ]
  },
  {
   "cell_type": "code",
   "execution_count": 17,
   "metadata": {},
   "outputs": [],
   "source": [
    "# castling is notated as 'O-O' or 'O-O-O', therefore needs overwritten: \n",
    "for num in moves_data.index:\n",
    "    # king side castle\n",
    "    if moves_data['moveNote'][num] == \"O-O\":\n",
    "        #  if red, origin is h1 and destination is j1\n",
    "        if moves_data['player'][num] == \"red\":\n",
    "            moves_data['origin'][num] = \"h1\"\n",
    "            moves_data['destination'][num] = \"j1\"\n",
    "        # if blue, origin is a8, and destination is a10\n",
    "        elif moves_data['player'][num] == \"blue\":\n",
    "            moves_data['origin'][num] = \"a8\"\n",
    "            moves_data['destination'][num] = \"a10\"\n",
    "        # if yellow, origin is g14 and destination is e14\n",
    "        elif moves_data['player'][num] == \"yellow\":\n",
    "            moves_data['origin'][num] = \"g14\"\n",
    "            moves_data['destination'][num] = \"e14\"\n",
    "        # if green, origin is n7 and destination is n5\n",
    "        elif moves_data['player'][num] == \"green\":\n",
    "            moves_data['origin'][num] = \"n7\"\n",
    "            moves_data['destination'][num] = \"n5\"\n",
    "    # queen side castle\n",
    "    elif moves_data['moveNote'][num] == \"O-O-O\":\n",
    "        #  if red, origin is h1 and destination is f1\n",
    "        if moves_data['player'][num] == \"red\":\n",
    "            moves_data['origin'][num] = \"h1\"\n",
    "            moves_data['destination'][num] = \"f1\"\n",
    "        # if blue, origin is a8, and destination is a6\n",
    "        elif moves_data['player'][num] == \"blue\":\n",
    "            moves_data['origin'][num] = \"a8\"\n",
    "            moves_data['destination'][num] = \"a6\"\n",
    "        # if yellow, origin is g14 and destination is i14\n",
    "        elif moves_data['player'][num] == \"yellow\":\n",
    "            moves_data['origin'][num] = \"g14\"\n",
    "            moves_data['destination'][num] = \"i14\"\n",
    "        # if green, origin is n7 and destination is n9\n",
    "        elif moves_data['player'][num] == \"green\":\n",
    "            moves_data['origin'][num] = \"n7\"\n",
    "            moves_data['destination'][num] = \"n9\""
   ]
  },
  {
   "cell_type": "markdown",
   "metadata": {},
   "source": [
    "### Remove extraneous, non-location info from origin and destination columns"
   ]
  },
  {
   "cell_type": "code",
   "execution_count": 18,
   "metadata": {},
   "outputs": [],
   "source": [
    "def removeExtraInfo(original_string):\n",
    "\n",
    "    try:\n",
    "        # queen promotion, check, checkmate, Knight, Brook, Rook, King, Queen\n",
    "        characters_to_remove = \"=D+#NBRKQ\"\n",
    "        pattern = \"[\" + characters_to_remove + \"]\"\n",
    "        return re.sub(pattern, \"\", original_string)\n",
    "    except:\n",
    "        return \"\""
   ]
  },
  {
   "cell_type": "code",
   "execution_count": 19,
   "metadata": {},
   "outputs": [],
   "source": [
    "moves_data['origin'] = moves_data['origin'].apply(removeExtraInfo)\n",
    "moves_data['destination'] = moves_data['destination'].apply(removeExtraInfo)"
   ]
  },
  {
   "cell_type": "code",
   "execution_count": 20,
   "metadata": {},
   "outputs": [],
   "source": [
    "# create folder where all data files from this game will live\n",
    "os.makedirs(\"dashboard/data/{}\".format(game_id))\n",
    "\n",
    "destinations = pd.DataFrame(moves_data['destination'].value_counts()).reset_index()\n",
    "destinations.columns = ['coordinate','value']\n",
    "destinations = destinations[destinations['coordinate']!=\"\"]\n",
    "\n",
    "# the value counts of each square that served as a destination will be used in the heatmap\n",
    "destinations.to_csv(\"dashboard/data/{}/destinations.csv\".format(game_id), index=False)"
   ]
  },
  {
   "cell_type": "markdown",
   "metadata": {},
   "source": [
    "# Use move notation to derive extra info\n",
    "### For each move, we will collect data on: which piece was moved, if the move resulted in capturing a piece from another player, if a pawn was promoted, if a check or checkmate was delivered"
   ]
  },
  {
   "cell_type": "code",
   "execution_count": 21,
   "metadata": {},
   "outputs": [],
   "source": [
    "def getPiece(move):\n",
    "    \n",
    "    # K = King\n",
    "    # Q = Queen\n",
    "    # R = Rook (but just \"R\" means resign)\n",
    "    # B = Bishop\n",
    "    # N = Knight\n",
    "    # _ = pawn\n",
    "    \n",
    "    # if this is true, move is missing. So return a blank.\n",
    "    if move != move:\n",
    "        return \"\"\n",
    "    \n",
    "    if 'O' in move: # they castled\n",
    "        return 'King' # we'll credit the king, even though the rook is involved too\n",
    "    if 'K' in move: # king\n",
    "        return 'King'\n",
    "    elif 'Q' in move: # queen\n",
    "        return 'Queen'\n",
    "    elif 'B' in move: # bishop\n",
    "        return 'Bishop'\n",
    "    elif move == 'R': # this means they just resigned...\n",
    "        return \"\" # ...which does not require moving a piece\n",
    "    elif ('R' in move):\n",
    "        return 'Rook' # rook\n",
    "    elif 'N' in move:\n",
    "        return 'Knight' # knight\n",
    "    else: # the 'P' for pawn isn't included in notation for pawn move (ugh)\n",
    "        return 'Pawn'\n",
    "    \n",
    "def lookForCapture(move):\n",
    "    \n",
    "    # if this is true, move is missing. So return a blank.\n",
    "    if move != move:\n",
    "        return \"\"\n",
    "    elif 'x' in move: # 'x' represents a capture\n",
    "        return 1\n",
    "    else:\n",
    "        return 0"
   ]
  },
  {
   "cell_type": "code",
   "execution_count": 22,
   "metadata": {},
   "outputs": [],
   "source": [
    "# column: which piece was moved?\n",
    "moves_data['piece'] = moves_data['move'].apply(getPiece)\n",
    "\n",
    "# column: did this move capture an enemy piece? 1 = yes, 0 = no\n",
    "moves_data['capture'] = moves_data['moveNote'].apply(lookForCapture)\n",
    "        \n",
    "# Note: if the data is ever needed, here is also where columns such as 'pawnPromoted' and 'check/checkmated' can be added\n",
    "# pawn promoted = \"=D\" in moveNotes\n",
    "# check = +\n",
    "# checkmated = #"
   ]
  },
  {
   "cell_type": "markdown",
   "metadata": {},
   "source": [
    "## For moves which deliver a checkmate, compute *who* got checkmated\n",
    "### The chess notation makes it obvious which moves deliver a checkmate - \"#\" = checkmate. However, nothing in the chess notation tells us *who* was checkmated. So computing this vital piece of info will require some extra steps. "
   ]
  },
  {
   "cell_type": "code",
   "execution_count": 20,
   "metadata": {},
   "outputs": [],
   "source": [
    "# step 1: web scrape chatbox for game info messages (this excludes player chat)\n",
    "chatbox_info_messages = driver.find_elements_by_class_name(\"infomsg\")\n",
    "\n",
    "# extract only the \"___ checkmated!\" messages\n",
    "checkmate_messages = []\n",
    "for message in chatbox_info_messages:\n",
    "    if \"checkmated\" in message.text:\n",
    "        checkmate_messages.append(message.text)\n",
    "        \n",
    "print(checkmate_messages)\n",
    "\n",
    "# validate the number of checkmate messages = the number of checkmate game notations\n",
    "assert(len(checkmate_messages) == len(moves_data[moves_data['moveNote'].str.contains('#')]))\n",
    "\n",
    "# because the checkmate messages list the player's usernames, as opposed to colors, we need to create a dictionary\n",
    "playerNames = driver.find_elements_by_class_name('truncate120') # list of player names\n",
    "playerColors = [\"red\", \"blue\", \"yellow\", \"green\"] # list of player colors\n",
    "playerDict = {}\n",
    "\n",
    "# create the player name : player color dictionary\n",
    "for num in range(0,len(playerNames)):\n",
    "    playerDict[playerNames[num].text] = playerColors[num]\n",
    "    \n",
    "print(playerDict)\n",
    "\n",
    "# new column: name of checkmated player *if* there was a checkmate on any given move\n",
    "moves_data['checkmate_target'] = ''\n",
    "\n",
    "numCheckmates = 0 # a variable to keep track of how many checkmates the game has had so far\n",
    "for i in moves_data.index:\n",
    "     # if we come across a move where a checkmate was delivered\n",
    "    if \"#\" in moves_data['moveNote'][i]:\n",
    "        # match up checkmate number with checkmate messages, which are ordered chronologically\n",
    "        checkmate_message = checkmate_messages[numCheckmates]\n",
    "        numCheckmates = numCheckmates + 1 # increment this value\n",
    "        \n",
    "        # use regex to extract name from checkmate message\n",
    "        checkmate_name = re.search(\"(.{,}) checkmated!\", checkmate_message).group(1)\n",
    "        \n",
    "        # who was checkmated?\n",
    "        print(checkmate_name)\n",
    "        \n",
    "        # and what was their color?\n",
    "        print(playerDict[checkmate_name])\n",
    "        \n",
    "        # fill in 'checkmate_target' column\n",
    "        moves_data['checkmate_target'][i] = playerDict[checkmate_name]"
   ]
  },
  {
   "cell_type": "markdown",
   "metadata": {},
   "source": [
    "### Who checkmated whom and when?"
   ]
  },
  {
   "cell_type": "code",
   "execution_count": 89,
   "metadata": {},
   "outputs": [
    {
     "data": {
      "text/html": [
       "<div>\n",
       "<style scoped>\n",
       "    .dataframe tbody tr th:only-of-type {\n",
       "        vertical-align: middle;\n",
       "    }\n",
       "\n",
       "    .dataframe tbody tr th {\n",
       "        vertical-align: top;\n",
       "    }\n",
       "\n",
       "    .dataframe thead th {\n",
       "        text-align: right;\n",
       "    }\n",
       "</style>\n",
       "<table border=\"1\" class=\"dataframe\">\n",
       "  <thead>\n",
       "    <tr style=\"text-align: right;\">\n",
       "      <th></th>\n",
       "      <th>round</th>\n",
       "      <th>player</th>\n",
       "      <th>move</th>\n",
       "      <th>checkmate_target</th>\n",
       "    </tr>\n",
       "  </thead>\n",
       "  <tbody>\n",
       "    <tr>\n",
       "      <td>123</td>\n",
       "      <td>31</td>\n",
       "      <td>green</td>\n",
       "      <td>Bg2+#</td>\n",
       "      <td>red</td>\n",
       "    </tr>\n",
       "    <tr>\n",
       "      <td>281</td>\n",
       "      <td>71</td>\n",
       "      <td>blue</td>\n",
       "      <td>h6=Q+#</td>\n",
       "      <td>green</td>\n",
       "    </tr>\n",
       "  </tbody>\n",
       "</table>\n",
       "</div>"
      ],
      "text/plain": [
       "     round player    move checkmate_target\n",
       "123     31  green   Bg2+#              red\n",
       "281     71   blue  h6=Q+#            green"
      ]
     },
     "execution_count": 89,
     "metadata": {},
     "output_type": "execute_result"
    }
   ],
   "source": [
    "moves_data[moves_data['checkmate_target']!=\"\"][['round', 'player', 'move', 'checkmate_target']]"
   ]
  },
  {
   "cell_type": "markdown",
   "metadata": {},
   "source": [
    "# Random analysis and stats"
   ]
  },
  {
   "cell_type": "code",
   "execution_count": 23,
   "metadata": {},
   "outputs": [],
   "source": [
    "red = moves_data[moves_data['player']=='red']\n",
    "blue = moves_data[moves_data['player']=='blue']\n",
    "yellow = moves_data[moves_data['player']=='yellow']\n",
    "green = moves_data[moves_data['player']=='green']"
   ]
  },
  {
   "cell_type": "code",
   "execution_count": 24,
   "metadata": {},
   "outputs": [
    {
     "data": {
      "text/plain": [
       "Pawn      108\n",
       "King       46\n",
       "Queen      38\n",
       "Bishop     33\n",
       "Knight     32\n",
       "Rook       27\n",
       "Name: piece, dtype: int64"
      ]
     },
     "execution_count": 24,
     "metadata": {},
     "output_type": "execute_result"
    }
   ],
   "source": [
    "moves_data['piece'].value_counts()"
   ]
  },
  {
   "cell_type": "code",
   "execution_count": 25,
   "metadata": {},
   "outputs": [
    {
     "name": "stdout",
     "output_type": "stream",
     "text": [
      "0.15845070422535212\n"
     ]
    }
   ],
   "source": [
    "# out of all the moves made, what percent were captures?\n",
    "print(len(moves_data[moves_data['capture'] == 1]) / (len(moves_data[moves_data['capture'] == 0]) + len(moves_data[moves_data['capture'] == 1])))"
   ]
  },
  {
   "cell_type": "code",
   "execution_count": 26,
   "metadata": {},
   "outputs": [
    {
     "name": "stdout",
     "output_type": "stream",
     "text": [
      "0.07042253521126761\n",
      "0.2112676056338028\n",
      "0.22535211267605634\n",
      "0.1267605633802817\n"
     ]
    }
   ],
   "source": [
    "# by player?\n",
    "print(len(red[red['capture'] == 1]) / (len(red[red['capture'] == 0]) + len(red[red['capture'] == 1])))\n",
    "print(len(blue[blue['capture'] == 1]) / (len(blue[blue['capture'] == 0]) + len(blue[blue['capture'] == 1])))\n",
    "print(len(yellow[yellow['capture'] == 1]) / (len(yellow[yellow['capture'] == 0]) + len(yellow[yellow['capture'] == 1])))\n",
    "print(len(green[green['capture'] == 1]) / (len(green[green['capture'] == 0]) + len(green[green['capture'] == 1])))"
   ]
  },
  {
   "cell_type": "markdown",
   "metadata": {},
   "source": [
    "# Running Measure Of Material Strength And How Many Pieces Each Player Still Has At Each Turn\n",
    "### Material Strength measured by: queens = +9, bishops / rooks = +5, knights +3, pawns = +1"
   ]
  },
  {
   "cell_type": "markdown",
   "metadata": {},
   "source": [
    "## First: I need a master list of all pieces and their starting coordinates"
   ]
  },
  {
   "cell_type": "code",
   "execution_count": 27,
   "metadata": {},
   "outputs": [],
   "source": [
    "pieces = [\"pawn\",\"pawn\",\"pawn\",\"pawn\",\"pawn\",\"pawn\",\"pawn\",\"pawn\",\"rook\",\"knight\",\"bishop\",\"queen\",\"king\",\"bishop\",\"knight\",\"rook\"]\n",
    "\n",
    "color = [\"red\",\"red\",\"red\",\"red\",\"red\",\"red\",\"red\",\"red\",\"red\",\"red\",\"red\",\"red\",\"red\",\"red\",\"red\",\"red\"]\n",
    "squares = [\"d2\",\"e2\",\"f2\",\"g2\",\"h2\",\"i2\",\"j2\",\"k2\",\"d1\",\"e1\",\"f1\",\"g1\",\"h1\",\"i1\",\"j1\",\"k1\"]\n",
    "red_positions = pd.DataFrame({\"player\":color, \"piece\":pieces, \"coordinate\":squares})\n",
    "\n",
    "color = [\"blue\",\"blue\",\"blue\",\"blue\",\"blue\",\"blue\",\"blue\",\"blue\",\"blue\",\"blue\",\"blue\",\"blue\",\"blue\",\"blue\",\"blue\",\"blue\"]\n",
    "squares = [\"b11\",\"b10\",\"b9\",\"b8\",\"b7\",\"b6\",\"b5\",\"b4\",\"a11\",\"a10\",\"a9\",\"a7\",\"a8\",\"a6\",\"a5\",\"a4\"]\n",
    "blue_positions = pd.DataFrame({\"player\":color, \"piece\":pieces, \"coordinate\":squares})\n",
    "\n",
    "color = [\"yellow\",\"yellow\",\"yellow\",\"yellow\",\"yellow\",\"yellow\",\"yellow\",\"yellow\",\"yellow\",\"yellow\",\"yellow\",\"yellow\",\"yellow\",\"yellow\",\"yellow\",\"yellow\"]\n",
    "squares = [\"k13\",\"j13\",\"i13\",\"h13\",\"g13\",\"f13\",\"e13\",\"d13\",\"k14\",\"j14\",\"i14\",\"h14\",\"g14\",\"f14\",\"e14\",\"d14\"]\n",
    "yellow_positions = pd.DataFrame({\"player\":color, \"piece\":pieces, \"coordinate\":squares})\n",
    "\n",
    "color = [\"green\",\"green\",\"green\",\"green\",\"green\",\"green\",\"green\",\"green\",\"green\",\"green\",\"green\",\"green\",\"green\",\"green\",\"green\",\"green\"]\n",
    "squares = [\"m4\",\"m5\",\"m6\",\"m7\",\"m8\",\"m9\",\"m10\",\"m11\",\"n4\",\"n5\",\"n6\",\"n8\",\"n7\",\"n9\",\"n10\",\"n11\"]\n",
    "green_positions = pd.DataFrame({\"player\":color, \"piece\":pieces, \"coordinate\":squares})\n",
    "\n",
    "piece_positions = pd.concat([red_positions,blue_positions,yellow_positions,green_positions])\n",
    "piece_positions = piece_positions.reset_index()\n",
    "del piece_positions['index']\n",
    "\n",
    "# we'll need this later for the javascript replica...\n",
    "piece_positions.to_csv(\"pieces.csv\", index=False)"
   ]
  },
  {
   "cell_type": "markdown",
   "metadata": {},
   "source": [
    "## Second, I need a function to decrease material strength value and call it when appropriate\n",
    "### Note: material strength can also increase if a player promotes a pawn to a queen. We'll handle that in part #3."
   ]
  },
  {
   "cell_type": "code",
   "execution_count": 28,
   "metadata": {},
   "outputs": [],
   "source": [
    "def decreaseMaterialStrength(pieceName, currentMaterialStrength):\n",
    "    \"\"\"\n",
    "    Each player starts with 16 pieces, but typically gradually lose these pieces over the course of the game.\n",
    "    We refer to a player's pieces as their 'material'. Their 'material strength' is the sum of their pieces values.\n",
    "    Not all pieces are created equally. A queen is worth 9 material strength points, a pawn is worth 1. \n",
    "    This function is called below when a piece is captured. It's parameters are the name of the peice being captured,\n",
    "    and the victim's current material strength (int)\n",
    "    This function returns their new material strength (int)\n",
    "    \"\"\"\n",
    "\n",
    "    if pieceName == 'pawn':\n",
    "        return currentMaterialStrength - 1\n",
    "    elif pieceName == 'knight':\n",
    "        return currentMaterialStrength - 3\n",
    "    elif pieceName == 'bishop':\n",
    "        return currentMaterialStrength - 5\n",
    "    elif pieceName == 'rook':\n",
    "        return currentMaterialStrength - 5\n",
    "    elif pieceName == 'queen':\n",
    "        return currentMaterialStrength - 9\n",
    "    elif pieceName == 'queen_':\n",
    "        return currentMaterialStrength - 9\n",
    "    else:\n",
    "        print(pieceName)\n",
    "        return currentMaterialStrength"
   ]
  },
  {
   "cell_type": "markdown",
   "metadata": {},
   "source": [
    "## Third, loop over every move in moves_data. Every time a piece gets moved, update its position in the positions dataframe. \n",
    "### Pay special attention to collisions; aka when a piece moves to a square already occupied by a piece. This is a capture! So both pieces need to be updated: the one moving, and the one being captured.\n",
    "### When this happens, update the attacked player's material strength. After making all changes and calculations, record each player's current material strength for each stage (move) of the game.\n",
    "### Also consider special cases: pawns being promoted to queens increases material strength, for example."
   ]
  },
  {
   "cell_type": "code",
   "execution_count": 36,
   "metadata": {},
   "outputs": [],
   "source": [
    "piece_positions = pd.concat([red_positions,blue_positions,yellow_positions,green_positions])\n",
    "piece_positions = piece_positions.reset_index()\n",
    "del piece_positions['index']\n",
    "\n",
    "# material strength values - this is how strong the sum of a player's pieces are\n",
    "redMaterial = 43 # this represents: 1 queen, 2 bishops, 2 rooks, 2 knights, 8 pawns\n",
    "blueMaterial = 43\n",
    "yellowMaterial = 43\n",
    "greenMaterial = 43\n",
    "\n",
    "redMaterialList = []\n",
    "blueMaterialList = []\n",
    "yellowMaterialList = []\n",
    "greenMaterialList = []\n",
    "\n",
    "# keep track of how many pieces each player has left\n",
    "redPieces = 16\n",
    "bluePieces = 16\n",
    "yellowPieces = 16\n",
    "greenPieces = 16\n",
    "\n",
    "redPiecesList = []\n",
    "bluePiecesList = []\n",
    "yellowPiecesList = []\n",
    "greenPiecesList = []\n",
    "\n",
    "for move in moves_data.index:\n",
    "    \n",
    "    # NaN check\n",
    "    if moves_data[\"move\"][move] == \"\":\n",
    "        # if true, then the player didn't move (they've been checkmated, resigned, etc)\n",
    "        # so do nothing on this loop\n",
    "        redMaterialList.append(redMaterial)\n",
    "        blueMaterialList.append(blueMaterial)\n",
    "        yellowMaterialList.append(yellowMaterial)\n",
    "        greenMaterialList.append(greenMaterial)\n",
    "        redPiecesList.append(redPieces)\n",
    "        bluePiecesList.append(bluePieces)\n",
    "        yellowPiecesList.append(yellowPieces)\n",
    "        greenPiecesList.append(greenPieces)\n",
    "        continue  \n",
    "    # resigning, timing out, or getting stalemated is a move which requires no pieces\n",
    "    elif (moves_data[\"move\"][move] == \"R\") or (moves_data[\"move\"][move] == \"C\") or (moves_data[\"move\"][move] == \"T\") or (moves_data[\"move\"][move] == \"S\"):\n",
    "        redMaterialList.append(redMaterial)\n",
    "        blueMaterialList.append(blueMaterial)\n",
    "        yellowMaterialList.append(yellowMaterial)\n",
    "        greenMaterialList.append(greenMaterial)\n",
    "        redPiecesList.append(redPieces)\n",
    "        bluePiecesList.append(bluePieces)\n",
    "        yellowPiecesList.append(yellowPieces)\n",
    "        greenPiecesList.append(greenPieces)\n",
    "        continue\n",
    "    \n",
    "    # for whatever piece was moved, what was the origin?\n",
    "    origin = moves_data[\"origin\"][move]\n",
    "    \n",
    "    # and where did the piece move to?\n",
    "    newSquare = moves_data[\"destination\"][move]\n",
    "    \n",
    "    # is anyone else already on the square the piece is moving to? If so, this is a capture\n",
    "    piece_at_newSquare = piece_positions.query(\"coordinate=='{}'\".format(newSquare))\n",
    "    if len(piece_at_newSquare) == 1: # this should always be 0 or 1 (can't have more than 1 piece on the same square)\n",
    "        piece_positions['coordinate'][piece_at_newSquare.index[0]] = 'captured'\n",
    "        \n",
    "        # get color of captured piece\n",
    "        playerAttacked = piece_positions['player'][piece_at_newSquare.index[0]]\n",
    "        # call decrease material strength function on appropriate player\n",
    "        if playerAttacked == 'red':\n",
    "            redMaterial = decreaseMaterialStrength(piece_positions['piece'][piece_at_newSquare.index[0]], redMaterial)\n",
    "            redPieces = redPieces - 1\n",
    "        elif playerAttacked == 'blue':\n",
    "            blueMaterial = decreaseMaterialStrength(piece_positions['piece'][piece_at_newSquare.index[0]], blueMaterial)\n",
    "            bluePieces = bluePieces - 1\n",
    "        elif playerAttacked == 'yellow':\n",
    "            yellowMaterial = decreaseMaterialStrength(piece_positions['piece'][piece_at_newSquare.index[0]], yellowMaterial)\n",
    "            yellowPieces = yellowPieces - 1\n",
    "        elif playerAttacked == 'green':\n",
    "            greenMaterial = decreaseMaterialStrength(piece_positions['piece'][piece_at_newSquare.index[0]], greenMaterial)\n",
    "            greenPieces = greenPieces - 1\n",
    "\n",
    "    # find index value of row representing the moved piece; replace coordinate column value with newSquare\n",
    "    index = piece_positions.query(\"coordinate=='{}'\".format(origin)).index[0]\n",
    "    piece_positions['coordinate'][index] = newSquare\n",
    "    \n",
    "    # if a player pushed a pawn to promotion, we need to update that pawns piece name to queen\n",
    "    if \"=D\" in moves_data['moveNote'][move]:\n",
    "        piece_positions['piece'][index] = 'queen_'\n",
    "        \n",
    "        # and update the players material strength - they just got an upgrade\n",
    "        if moves_data['player'][move] == 'red':\n",
    "            redMaterial = redMaterial + 8 # from pawns value of 1 to queens value of 9\n",
    "        elif moves_data['player'][move] == 'blue':\n",
    "            blueMaterial = blueMaterial + 8\n",
    "        elif moves_data['player'][move] == 'yellow':\n",
    "            yellowMaterial = yellowMaterial + 8\n",
    "        elif moves_data['player'][move] == 'green':\n",
    "            greenMaterial = greenMaterial + 8\n",
    "    \n",
    "    # a castle moves both the king and the rook to new pieces\n",
    "    # we covered the king. Now for updating the rook's position...\n",
    "    if moves_data[\"move\"][move] == \"O-O\":\n",
    "        if moves_data['player'][move] == \"red\":\n",
    "            origin = \"k1\" # where the rook starts\n",
    "            newSquare = \"i1\" # where the rook lands after the castle\n",
    "        elif moves_data['player'][move] == \"blue\":\n",
    "            origin = \"a11\" \n",
    "            newSquare = \"a9\"\n",
    "        elif moves_data['player'][move] == \"yellow\":\n",
    "            origin = \"d14\" \n",
    "            newSquare = \"f14\"\n",
    "        elif moves_data['player'][move] == \"green\":\n",
    "            origin = \"n4\" \n",
    "            newSquare = \"n6\"\n",
    "        index = piece_positions.query(\"coordinate=='{}'\".format(origin)).index[0] # find and update the rook's position\n",
    "        piece_positions['coordinate'][index] = newSquare\n",
    "    # queen side castle\n",
    "    elif moves_data[\"move\"][move] == \"O-O-O\":\n",
    "        if moves_data['player'][move] == \"red\":\n",
    "            origin = \"d1\" # where the rook starts\n",
    "            newSquare = \"g1\" # where the rook lands after the castle\n",
    "        elif moves_data['player'][move] == \"blue\":\n",
    "            origin = \"a4\" \n",
    "            newSquare = \"a7\"\n",
    "        elif moves_data['player'][move] == \"yellow\":\n",
    "            origin = \"k14\" \n",
    "            newSquare = \"h14\"\n",
    "        elif moves_data['player'][move] == \"green\":\n",
    "            origin = \"n11\" \n",
    "            newSquare = \"n8\"\n",
    "        index = piece_positions.query(\"coordinate=='{}'\".format(origin)).index[0] # find and update the rook's position\n",
    "        piece_positions['coordinate'][index] = newSquare\n",
    "        \n",
    "    # save each player's current material strength at this game stage\n",
    "    redMaterialList.append(redMaterial)\n",
    "    blueMaterialList.append(blueMaterial)\n",
    "    yellowMaterialList.append(yellowMaterial)\n",
    "    greenMaterialList.append(greenMaterial)\n",
    "    \n",
    "    # save each player's number of pieces currently\n",
    "    redPiecesList.append(redPieces)\n",
    "    bluePiecesList.append(bluePieces)\n",
    "    yellowPiecesList.append(yellowPieces)\n",
    "    greenPiecesList.append(greenPieces)\n",
    "    \n",
    "    # possible future data quality check: assert that the piece we think moved matches the 'piece column' in moves_data df\n",
    "    #something using piece_positions.query(\"coordinate=='{}'\".format(origin))['piece'].iloc[0]\n",
    "    # if we want, we could also assert piece captures with the capture column in moves_data df\n",
    "    \n",
    "assert(len(redMaterialList) == len(moves_data))\n",
    "assert(len(redPiecesList) == len(moves_data))"
   ]
  },
  {
   "cell_type": "markdown",
   "metadata": {},
   "source": [
    "### Attach material values and number of pieces to main df"
   ]
  },
  {
   "cell_type": "code",
   "execution_count": 37,
   "metadata": {},
   "outputs": [],
   "source": [
    "moves_data['redMaterial'] = redMaterialList\n",
    "moves_data['blueMaterial'] = blueMaterialList\n",
    "moves_data['yellowMaterial'] = yellowMaterialList\n",
    "moves_data['greenMaterial'] = greenMaterialList\n",
    "\n",
    "moves_data['redNumPieces'] = redPiecesList\n",
    "moves_data['blueNumPieces'] = bluePiecesList\n",
    "moves_data['yellowNumPieces'] = yellowPiecesList\n",
    "moves_data['greenNumPieces'] = greenPiecesList"
   ]
  },
  {
   "cell_type": "code",
   "execution_count": 38,
   "metadata": {},
   "outputs": [],
   "source": [
    "# bug in my code: if a player is checkmated and in future rounds their void pieces are captured, that shouldn't\n",
    "# affect said player's material strength score. Instead, once a player is checkmated, resigns, or times out,\n",
    "# we want to freeze their material strength score for the rest of the game\n",
    "\n",
    "redout = 0\n",
    "blueout = 0\n",
    "yellowout = 0\n",
    "greenout = 0\n",
    "\n",
    "# use loop to find point at which each player stops playing, and overwrite all future material strength scores \n",
    "for num in moves_data.index:\n",
    "    # it's a \"non-move\"\n",
    "    if moves_data['move'][num] == \"\":\n",
    "        # if it's a player's *first* non-move, save their material value\n",
    "        if (moves_data['player'][num] == \"red\") & (redout == 0):\n",
    "            redout = 1\n",
    "            redMaterial = moves_data['redMaterial'][num]\n",
    "            redPieces = moves_data['redNumPieces'][num]\n",
    "        if (moves_data['player'][num] == \"blue\") & (blueout == 0):\n",
    "            blueout = 1\n",
    "            blueMaterial = moves_data['blueMaterial'][num]\n",
    "            bluePieces = moves_data['blueNumPieces'][num]\n",
    "        if (moves_data['player'][num] == \"yellow\") & (yellowout == 0):\n",
    "            yellowout = 1\n",
    "            yellowMaterial = moves_data['yellowMaterial'][num]\n",
    "            yellowPieces = moves_data['yellowNumPieces'][num]\n",
    "        if (moves_data['player'][num] == \"green\") & (greenout == 0):\n",
    "            greenout = 1\n",
    "            greenMaterial = moves_data['greenMaterial'][num]\n",
    "            greenPieces = moves_data['greenNumPieces'][num]\n",
    "            \n",
    "    if redout == 1:\n",
    "        # overwrite their material strength as value when they stopped playing\n",
    "        moves_data['redMaterial'][num] = redMaterial\n",
    "        moves_data['redNumPieces'][num] = redPieces\n",
    "    if blueout == 1:\n",
    "        moves_data['blueMaterial'][num] = blueMaterial\n",
    "        moves_data['blueNumPieces'][num] = bluePieces\n",
    "    if yellowout == 1:\n",
    "        moves_data['yellowMaterial'][num] = yellowMaterial\n",
    "        moves_data['yellowNumPieces'][num] = yellowPieces\n",
    "    if greenout == 1:\n",
    "        moves_data['greenMaterial'][num] = greenMaterial\n",
    "        moves_data['greenNumPieces'][num] = greenPieces\n",
    "        \n",
    "# note: if red checkmates green, blue and yellow both go before green is registered as \"non-moving\"\n",
    "# that's two moves in which green's void pieces could be captured. My for loop doesn't account for that."
   ]
  },
  {
   "cell_type": "markdown",
   "metadata": {},
   "source": [
    "### Material Strength Over Time Viz"
   ]
  },
  {
   "cell_type": "code",
   "execution_count": 39,
   "metadata": {},
   "outputs": [
    {
     "data": {
      "text/plain": [
       "[<matplotlib.lines.Line2D at 0x1772e62f748>]"
      ]
     },
     "execution_count": 39,
     "metadata": {},
     "output_type": "execute_result"
    },
    {
     "data": {
      "image/png": "[encoded data removed]",
      "text/plain": [
       "<Figure size 432x288 with 1 Axes>"
      ]
     },
     "metadata": {
      "needs_background": "light"
     },
     "output_type": "display_data"
    }
   ],
   "source": [
    "plt.plot(moves_data.index, moves_data['redMaterial'], color='red', linewidth=3)\n",
    "plt.plot(moves_data.index, moves_data['blueMaterial'], color='blue', linewidth=3)\n",
    "plt.plot(moves_data.index, moves_data['yellowMaterial'], color='yellow', linewidth=3)\n",
    "plt.plot(moves_data.index, moves_data['greenMaterial'], color='green', linewidth=3)"
   ]
  },
  {
   "cell_type": "markdown",
   "metadata": {},
   "source": [
    "### Material Strength Lost Vs Points Earned\n",
    "#### Read this graph right to left"
   ]
  },
  {
   "cell_type": "code",
   "execution_count": 56,
   "metadata": {},
   "outputs": [
    {
     "data": {
      "text/plain": [
       "[<matplotlib.lines.Line2D at 0x1772fb08cc8>]"
      ]
     },
     "execution_count": 56,
     "metadata": {},
     "output_type": "execute_result"
    },
    {
     "data": {
      "image/png": "[encoded data removed]",
      "text/plain": [
       "<Figure size 432x288 with 1 Axes>"
      ]
     },
     "metadata": {
      "needs_background": "light"
     },
     "output_type": "display_data"
    }
   ],
   "source": [
    "plt.plot(moves_data['redMaterial'], moves_data['redPoints'], color='red', linewidth=3)\n",
    "plt.plot(moves_data['blueMaterial'], moves_data['bluePoints'], color='blue', linewidth=3)\n",
    "plt.plot(moves_data['yellowMaterial'],moves_data['yellowPoints'],  color='yellow', linewidth=3)\n",
    "plt.plot(moves_data['greenMaterial'], moves_data['greenPoints'], color='green', linewidth=3)"
   ]
  },
  {
   "cell_type": "markdown",
   "metadata": {},
   "source": [
    "## View the final position of each of blue's pieces\n",
    "#### Note: \"queen_\" is a former pawn"
   ]
  },
  {
   "cell_type": "code",
   "execution_count": 42,
   "metadata": {},
   "outputs": [
    {
     "data": {
      "text/html": [
       "<div>\n",
       "<style scoped>\n",
       "    .dataframe tbody tr th:only-of-type {\n",
       "        vertical-align: middle;\n",
       "    }\n",
       "\n",
       "    .dataframe tbody tr th {\n",
       "        vertical-align: top;\n",
       "    }\n",
       "\n",
       "    .dataframe thead th {\n",
       "        text-align: right;\n",
       "    }\n",
       "</style>\n",
       "<table border=\"1\" class=\"dataframe\">\n",
       "  <thead>\n",
       "    <tr style=\"text-align: right;\">\n",
       "      <th></th>\n",
       "      <th>player</th>\n",
       "      <th>piece</th>\n",
       "      <th>coordinate</th>\n",
       "    </tr>\n",
       "  </thead>\n",
       "  <tbody>\n",
       "    <tr>\n",
       "      <td>16</td>\n",
       "      <td>blue</td>\n",
       "      <td>pawn</td>\n",
       "      <td>captured</td>\n",
       "    </tr>\n",
       "    <tr>\n",
       "      <td>17</td>\n",
       "      <td>blue</td>\n",
       "      <td>pawn</td>\n",
       "      <td>captured</td>\n",
       "    </tr>\n",
       "    <tr>\n",
       "      <td>18</td>\n",
       "      <td>blue</td>\n",
       "      <td>pawn</td>\n",
       "      <td>d9</td>\n",
       "    </tr>\n",
       "    <tr>\n",
       "      <td>19</td>\n",
       "      <td>blue</td>\n",
       "      <td>pawn</td>\n",
       "      <td>c8</td>\n",
       "    </tr>\n",
       "    <tr>\n",
       "      <td>20</td>\n",
       "      <td>blue</td>\n",
       "      <td>queen_</td>\n",
       "      <td>h6</td>\n",
       "    </tr>\n",
       "    <tr>\n",
       "      <td>21</td>\n",
       "      <td>blue</td>\n",
       "      <td>pawn</td>\n",
       "      <td>d6</td>\n",
       "    </tr>\n",
       "    <tr>\n",
       "      <td>22</td>\n",
       "      <td>blue</td>\n",
       "      <td>pawn</td>\n",
       "      <td>captured</td>\n",
       "    </tr>\n",
       "    <tr>\n",
       "      <td>23</td>\n",
       "      <td>blue</td>\n",
       "      <td>pawn</td>\n",
       "      <td>d4</td>\n",
       "    </tr>\n",
       "    <tr>\n",
       "      <td>24</td>\n",
       "      <td>blue</td>\n",
       "      <td>rook</td>\n",
       "      <td>captured</td>\n",
       "    </tr>\n",
       "    <tr>\n",
       "      <td>25</td>\n",
       "      <td>blue</td>\n",
       "      <td>knight</td>\n",
       "      <td>captured</td>\n",
       "    </tr>\n",
       "    <tr>\n",
       "      <td>26</td>\n",
       "      <td>blue</td>\n",
       "      <td>bishop</td>\n",
       "      <td>captured</td>\n",
       "    </tr>\n",
       "    <tr>\n",
       "      <td>27</td>\n",
       "      <td>blue</td>\n",
       "      <td>queen</td>\n",
       "      <td>i6</td>\n",
       "    </tr>\n",
       "    <tr>\n",
       "      <td>28</td>\n",
       "      <td>blue</td>\n",
       "      <td>king</td>\n",
       "      <td>d11</td>\n",
       "    </tr>\n",
       "    <tr>\n",
       "      <td>29</td>\n",
       "      <td>blue</td>\n",
       "      <td>bishop</td>\n",
       "      <td>j9</td>\n",
       "    </tr>\n",
       "    <tr>\n",
       "      <td>30</td>\n",
       "      <td>blue</td>\n",
       "      <td>knight</td>\n",
       "      <td>e8</td>\n",
       "    </tr>\n",
       "    <tr>\n",
       "      <td>31</td>\n",
       "      <td>blue</td>\n",
       "      <td>rook</td>\n",
       "      <td>captured</td>\n",
       "    </tr>\n",
       "  </tbody>\n",
       "</table>\n",
       "</div>"
      ],
      "text/plain": [
       "   player   piece coordinate\n",
       "16   blue    pawn   captured\n",
       "17   blue    pawn   captured\n",
       "18   blue    pawn         d9\n",
       "19   blue    pawn         c8\n",
       "20   blue  queen_         h6\n",
       "21   blue    pawn         d6\n",
       "22   blue    pawn   captured\n",
       "23   blue    pawn         d4\n",
       "24   blue    rook   captured\n",
       "25   blue  knight   captured\n",
       "26   blue  bishop   captured\n",
       "27   blue   queen         i6\n",
       "28   blue    king        d11\n",
       "29   blue  bishop         j9\n",
       "30   blue  knight         e8\n",
       "31   blue    rook   captured"
      ]
     },
     "execution_count": 42,
     "metadata": {},
     "output_type": "execute_result"
    }
   ],
   "source": [
    "piece_positions[piece_positions['player']=='blue']"
   ]
  },
  {
   "cell_type": "markdown",
   "metadata": {},
   "source": [
    "# Save data"
   ]
  },
  {
   "cell_type": "code",
   "execution_count": 90,
   "metadata": {},
   "outputs": [],
   "source": [
    "def stripPeriod(value):\n",
    "    return value.strip(\".\")\n",
    "\n",
    "# might be helpful to have round numbers listed without \".0\"\n",
    "moves_data[\"round\"] = moves_data[\"round\"].apply(stripPeriod)\n",
    "\n",
    "# save data file\n",
    "moves_data.to_csv(\"dashboard/data/{}/moves.csv\".format(game_id), index=False)"
   ]
  },
  {
   "cell_type": "code",
   "execution_count": 3,
   "metadata": {},
   "outputs": [],
   "source": [
    "#import pandas as pd \n",
    "#moves_data = pd.read_csv(\"dashboard/data/{}/moves.csv\".format(game_id))\n",
    "#moves_data = moves_data.fillna(\"\")"
   ]
  }
 ],
 "metadata": {
  "kernelspec": {
   "display_name": "Python 3",
   "language": "python",
   "name": "python3"
  },
  "language_info": {
   "codemirror_mode": {
    "name": "ipython",
    "version": 3
   },
   "file_extension": ".py",
   "mimetype": "text/x-python",
   "name": "python",
   "nbconvert_exporter": "python",
   "pygments_lexer": "ipython3",
   "version": "3.7.4"
  }
 },
 "nbformat": 4,
 "nbformat_minor": 2
}
